{
 "cells": [
  {
   "cell_type": "markdown",
   "id": "fe94030e",
   "metadata": {},
   "source": [
    "# Introduction\n",
    "Countries take debt to fuel the economy in various ways eg. improve infrastructure, health care etc.The World Bank is the organization that provides debt to countries.\n",
    "\n",
    "\n",
    "In this project, you are a data analyst working for World Bank.You have been asked to pull a couple of reports and present the report in your team's weekly meeting that will be used to make some business decisions.The debt database contains information about the amount of debt (in USD) owed by developing countries across several categories. \n",
    "\n",
    "<img src=\"https://www.africanleadershipmagazine.co.uk/wp-content/uploads/2022/11/World-Bank-1.jpeg\" alt>\n",
    "\n",
    "# Instruction\n",
    "\n",
    "1. Import the DEBT DATABASE in your sqlitestudio and analyze the international_debt table.\n",
    "2. For each question, output the SQL statement and the answer to the question."
   ]
  },
  {
   "cell_type": "code",
   "execution_count": null,
   "id": "7558803b",
   "metadata": {},
   "outputs": [],
   "source": []
  },
  {
   "cell_type": "markdown",
   "id": "bf0e5c33",
   "metadata": {},
   "source": [
    "# Question 1 : Determining countries with World Bank's debt"
   ]
  },
  {
   "cell_type": "markdown",
   "id": "522c8a36",
   "metadata": {},
   "source": [
    "- Write the SQL Statement to find the number of distinct countries: Use alias name total_countries\n",
    "\n",
    "\n",
    "\n",
    "- How many distinct countries are there in the table from your query above?\n",
    "\n"
   ]
  },
  {
   "cell_type": "code",
   "execution_count": null,
   "id": "6e03bee5",
   "metadata": {},
   "outputs": [],
   "source": []
  },
  {
   "cell_type": "code",
   "execution_count": null,
   "id": "81cc98ea",
   "metadata": {},
   "outputs": [],
   "source": []
  },
  {
   "cell_type": "markdown",
   "id": "d255829d",
   "metadata": {},
   "source": [
    "---"
   ]
  },
  {
   "cell_type": "markdown",
   "id": "51670965",
   "metadata": {},
   "source": [
    "## Question 2: Determining the economic state of countries through debt owed\n"
   ]
  },
  {
   "cell_type": "markdown",
   "id": "e589b4c4",
   "metadata": {},
   "source": [
    "- Write the SQL Statement to determine the total amount of debt all the countries owe world bank.\n",
    "\n",
    "\n",
    "- What is the the total amount of debt all the countries owe world bank from your query above?\n",
    "\n",
    "\n",
    "\n",
    "- Write the SQL Statement to determine the country with the highest debt amount.\n",
    "\n",
    "\n",
    "\n",
    "- Which is the country with the highest debt amount and what amount does it owe world bank from your query above?\n",
    "\n",
    "\n"
   ]
  },
  {
   "cell_type": "markdown",
   "id": "1457312e",
   "metadata": {},
   "source": [
    "---"
   ]
  },
  {
   "cell_type": "markdown",
   "id": "600d8ca0",
   "metadata": {},
   "source": [
    "## Question 3 : Determing the distribution of debt across the different categories \n",
    "\n",
    "The column indicator_name briefly specifies the purpose of taking the debt. Next to it, there is another column called indicator_code which symbolizes the category of these debts."
   ]
  },
  {
   "cell_type": "markdown",
   "id": "9386c350",
   "metadata": {},
   "source": [
    " - Write the SQL Statement to determine average amount of debt owed across the categories(indicators). Order from the highest average debt to lowest in each category.\n",
    "\n",
    "\n",
    "\n",
    "- Which category(indicator code and name) has the highest amount of taken loans and total amount of loans taken in that category\n"
   ]
  },
  {
   "cell_type": "markdown",
   "id": "81187638",
   "metadata": {},
   "source": [
    "---"
   ]
  },
  {
   "cell_type": "markdown",
   "id": "fa34a0a8",
   "metadata": {},
   "source": [
    "## Question 4: Determining the country with the highest amount taken for a particular category"
   ]
  },
  {
   "cell_type": "markdown",
   "id": "5ea385cd",
   "metadata": {},
   "source": [
    "- Write the SQL Statement to determine ahe country with the highest amount of principal repayments for indicator code DT.AMT.DPNG.CD) \n",
    "\n",
    "\n",
    "- Which country has the highest amount of principal repayment from your query above and how much is the debt?\n"
   ]
  },
  {
   "cell_type": "code",
   "execution_count": null,
   "id": "b35422c5",
   "metadata": {},
   "outputs": [],
   "source": []
  }
 ],
 "metadata": {
  "kernelspec": {
   "display_name": "Python 3 (ipykernel)",
   "language": "python",
   "name": "python3"
  },
  "language_info": {
   "codemirror_mode": {
    "name": "ipython",
    "version": 3
   },
   "file_extension": ".py",
   "mimetype": "text/x-python",
   "name": "python",
   "nbconvert_exporter": "python",
   "pygments_lexer": "ipython3",
   "version": "3.10.5"
  }
 },
 "nbformat": 4,
 "nbformat_minor": 5
}
